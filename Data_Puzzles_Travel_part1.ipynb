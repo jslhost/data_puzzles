{
  "cells": [
    {
      "cell_type": "markdown",
      "metadata": {
        "id": "LOAkwalhvfI4"
      },
      "source": [
        "## Geodesics\n",
        "\n",
        "* Let's plan our next trip together! \n",
        "* For this purpose, we have gathered a list of all the world's capital cities according to https://simplemaps.com/data/world-cities\n",
        "\n",
        "Prerequisites:\n",
        "* Basic geometry and geography knowledge.\n",
        "* A bit of programming experience to transform data and think of a solution. "
      ]
    },
    {
      "cell_type": "markdown",
      "metadata": {
        "id": "Fj1Gy-llwHFH"
      },
      "source": [
        "# Part 1: Can you get the two furthest capitals on Earth? (sea level)"
      ]
    },
    {
      "cell_type": "code",
      "execution_count": 2,
      "metadata": {},
      "outputs": [
        {
          "name": "stdout",
          "output_type": "stream",
          "text": [
            "Collecting geopy\n",
            "  Downloading geopy-2.3.0-py3-none-any.whl (119 kB)\n",
            "Collecting geographiclib<3,>=1.52\n",
            "  Downloading geographiclib-2.0-py3-none-any.whl (40 kB)\n",
            "Installing collected packages: geographiclib, geopy\n",
            "Successfully installed geographiclib-2.0 geopy-2.3.0\n"
          ]
        }
      ],
      "source": [
        "!pip install geopy"
      ]
    },
    {
      "cell_type": "code",
      "execution_count": 39,
      "metadata": {
        "id": "Fr7YOB6UvhPX"
      },
      "outputs": [],
      "source": [
        "import numpy as np\n",
        "import pandas as pd\n",
        "from geopy import distance"
      ]
    },
    {
      "cell_type": "code",
      "execution_count": 4,
      "metadata": {
        "id": "jaJyQmfNvkRl"
      },
      "outputs": [],
      "source": [
        "capitals_df = pd.read_csv('https://raw.githubusercontent.com/hyperc54/data-puzzles-assets/master/features/travel/worldcapitals_light.csv')"
      ]
    },
    {
      "cell_type": "code",
      "execution_count": 5,
      "metadata": {
        "colab": {
          "base_uri": "https://localhost:8080/",
          "height": 206
        },
        "id": "sEjMlCfyvodG",
        "outputId": "9c665bbd-b2ce-4284-87d1-714b95552729"
      },
      "outputs": [
        {
          "data": {
            "text/html": [
              "<div>\n",
              "<style scoped>\n",
              "    .dataframe tbody tr th:only-of-type {\n",
              "        vertical-align: middle;\n",
              "    }\n",
              "\n",
              "    .dataframe tbody tr th {\n",
              "        vertical-align: top;\n",
              "    }\n",
              "\n",
              "    .dataframe thead th {\n",
              "        text-align: right;\n",
              "    }\n",
              "</style>\n",
              "<table border=\"1\" class=\"dataframe\">\n",
              "  <thead>\n",
              "    <tr style=\"text-align: right;\">\n",
              "      <th></th>\n",
              "      <th>city</th>\n",
              "      <th>lat</th>\n",
              "      <th>lng</th>\n",
              "    </tr>\n",
              "  </thead>\n",
              "  <tbody>\n",
              "    <tr>\n",
              "      <th>0</th>\n",
              "      <td>Tokyo</td>\n",
              "      <td>35.6839</td>\n",
              "      <td>139.7744</td>\n",
              "    </tr>\n",
              "    <tr>\n",
              "      <th>1</th>\n",
              "      <td>Jakarta</td>\n",
              "      <td>-6.2146</td>\n",
              "      <td>106.8451</td>\n",
              "    </tr>\n",
              "    <tr>\n",
              "      <th>2</th>\n",
              "      <td>Manila</td>\n",
              "      <td>14.6000</td>\n",
              "      <td>120.9833</td>\n",
              "    </tr>\n",
              "    <tr>\n",
              "      <th>3</th>\n",
              "      <td>Seoul</td>\n",
              "      <td>37.5600</td>\n",
              "      <td>126.9900</td>\n",
              "    </tr>\n",
              "    <tr>\n",
              "      <th>4</th>\n",
              "      <td>Mexico City</td>\n",
              "      <td>19.4333</td>\n",
              "      <td>-99.1333</td>\n",
              "    </tr>\n",
              "  </tbody>\n",
              "</table>\n",
              "</div>"
            ],
            "text/plain": [
              "          city      lat       lng\n",
              "0        Tokyo  35.6839  139.7744\n",
              "1      Jakarta  -6.2146  106.8451\n",
              "2       Manila  14.6000  120.9833\n",
              "3        Seoul  37.5600  126.9900\n",
              "4  Mexico City  19.4333  -99.1333"
            ]
          },
          "execution_count": 5,
          "metadata": {},
          "output_type": "execute_result"
        }
      ],
      "source": [
        "capitals_df.head()"
      ]
    },
    {
      "cell_type": "code",
      "execution_count": 6,
      "metadata": {
        "id": "KsDEbBzvwD3W"
      },
      "outputs": [
        {
          "data": {
            "text/plain": [
              "city\n",
              "Kingston      2\n",
              "Abidjan       1\n",
              "Phnom Penh    1\n",
              "N’Djamena     1\n",
              "Oranjestad    1\n",
              "             ..\n",
              "Hamilton      1\n",
              "Hanoi         1\n",
              "Harare        1\n",
              "Havana        1\n",
              "Zagreb        1\n",
              "Length: 248, dtype: int64"
            ]
          },
          "execution_count": 6,
          "metadata": {},
          "output_type": "execute_result"
        }
      ],
      "source": [
        "capitals_df.value_counts('city')"
      ]
    },
    {
      "cell_type": "code",
      "execution_count": 7,
      "metadata": {},
      "outputs": [
        {
          "data": {
            "text/html": [
              "<div>\n",
              "<style scoped>\n",
              "    .dataframe tbody tr th:only-of-type {\n",
              "        vertical-align: middle;\n",
              "    }\n",
              "\n",
              "    .dataframe tbody tr th {\n",
              "        vertical-align: top;\n",
              "    }\n",
              "\n",
              "    .dataframe thead th {\n",
              "        text-align: right;\n",
              "    }\n",
              "</style>\n",
              "<table border=\"1\" class=\"dataframe\">\n",
              "  <thead>\n",
              "    <tr style=\"text-align: right;\">\n",
              "      <th></th>\n",
              "      <th>city</th>\n",
              "      <th>lat</th>\n",
              "      <th>lng</th>\n",
              "    </tr>\n",
              "  </thead>\n",
              "  <tbody>\n",
              "    <tr>\n",
              "      <th>123</th>\n",
              "      <td>Kingston</td>\n",
              "      <td>17.9714</td>\n",
              "      <td>-76.7931</td>\n",
              "    </tr>\n",
              "    <tr>\n",
              "      <th>241</th>\n",
              "      <td>Kingston</td>\n",
              "      <td>-29.0569</td>\n",
              "      <td>167.9617</td>\n",
              "    </tr>\n",
              "  </tbody>\n",
              "</table>\n",
              "</div>"
            ],
            "text/plain": [
              "         city      lat       lng\n",
              "123  Kingston  17.9714  -76.7931\n",
              "241  Kingston -29.0569  167.9617"
            ]
          },
          "execution_count": 7,
          "metadata": {},
          "output_type": "execute_result"
        }
      ],
      "source": [
        "capitals_df.loc[capitals_df['city']=='Kingston']"
      ]
    },
    {
      "cell_type": "code",
      "execution_count": 12,
      "metadata": {},
      "outputs": [
        {
          "data": {
            "text/html": [
              "<div>\n",
              "<style scoped>\n",
              "    .dataframe tbody tr th:only-of-type {\n",
              "        vertical-align: middle;\n",
              "    }\n",
              "\n",
              "    .dataframe tbody tr th {\n",
              "        vertical-align: top;\n",
              "    }\n",
              "\n",
              "    .dataframe thead th {\n",
              "        text-align: right;\n",
              "    }\n",
              "</style>\n",
              "<table border=\"1\" class=\"dataframe\">\n",
              "  <thead>\n",
              "    <tr style=\"text-align: right;\">\n",
              "      <th></th>\n",
              "      <th>city</th>\n",
              "      <th>lat</th>\n",
              "      <th>lng</th>\n",
              "    </tr>\n",
              "  </thead>\n",
              "  <tbody>\n",
              "    <tr>\n",
              "      <th>123</th>\n",
              "      <td>Kingston_1</td>\n",
              "      <td>17.9714</td>\n",
              "      <td>-76.7931</td>\n",
              "    </tr>\n",
              "    <tr>\n",
              "      <th>241</th>\n",
              "      <td>Kingston_2</td>\n",
              "      <td>-29.0569</td>\n",
              "      <td>167.9617</td>\n",
              "    </tr>\n",
              "  </tbody>\n",
              "</table>\n",
              "</div>"
            ],
            "text/plain": [
              "           city      lat       lng\n",
              "123  Kingston_1  17.9714  -76.7931\n",
              "241  Kingston_2 -29.0569  167.9617"
            ]
          },
          "execution_count": 12,
          "metadata": {},
          "output_type": "execute_result"
        }
      ],
      "source": [
        "capitals_df.iloc[123, 0] = 'Kingston_1'\n",
        "capitals_df.iloc[241, 0] = 'Kingston_2'\n",
        "capitals_df.loc[capitals_df['city'].str.contains('Kingston')]"
      ]
    },
    {
      "cell_type": "code",
      "execution_count": 33,
      "metadata": {},
      "outputs": [
        {
          "data": {
            "text/plain": [
              "array([ 35.6839, 139.7744])"
            ]
          },
          "execution_count": 33,
          "metadata": {},
          "output_type": "execute_result"
        }
      ],
      "source": [
        "capitals_df.loc[capitals_df['city']=='Tokyo', ['lat', 'lng']].values[0]"
      ]
    },
    {
      "cell_type": "code",
      "execution_count": 42,
      "metadata": {},
      "outputs": [],
      "source": [
        "from itertools import combinations\n",
        "\n",
        "capitals_distance = {}\n",
        "for capitals_combination in combinations(capitals_df.loc[:,'city'].values, 2):\n",
        "    capital_1 = capitals_df.loc[capitals_df['city']==capitals_combination[0], ['lat', 'lng']].values[0]\n",
        "    capital_2 = capitals_df.loc[capitals_df['city']==capitals_combination[1], ['lat', 'lng']].values[0]\n",
        "    distance_km = distance.distance(capital_1, capital_2).km\n",
        "    capitals_distance[capitals_combination] = distance_km"
      ]
    },
    {
      "cell_type": "code",
      "execution_count": 52,
      "metadata": {},
      "outputs": [
        {
          "data": {
            "text/plain": [
              "Doha    Adamstown     19865.475390\n",
              "Manama  Adamstown     19863.848894\n",
              "Madrid  Wellington    19855.260559\n",
              "Niamey  Mata-Utu      19847.411029\n",
              "Lima    Phnom Penh    19813.226227\n",
              "Name: distances, dtype: float64"
            ]
          },
          "execution_count": 52,
          "metadata": {},
          "output_type": "execute_result"
        }
      ],
      "source": [
        "import pandas as pd \n",
        "\n",
        "df = pd.DataFrame(data=capitals_distance, index=['distances'])\n",
        "df.T.loc[:,'distances'].nlargest()"
      ]
    },
    {
      "cell_type": "code",
      "execution_count": 55,
      "metadata": {},
      "outputs": [
        {
          "data": {
            "text/plain": [
              "Jerusalem  Al Quds                      0.061004\n",
              "Rome       Vatican City                 2.689910\n",
              "Marigot    Philipsburg                  6.239705\n",
              "Kinshasa   Brazzaville                  7.949977\n",
              "Colombo    Sri Jayewardenepura Kotte    9.367791\n",
              "Name: distances, dtype: float64"
            ]
          },
          "execution_count": 55,
          "metadata": {},
          "output_type": "execute_result"
        }
      ],
      "source": [
        "# Part 2\n",
        "df.T.loc[:,'distances'].nsmallest()"
      ]
    },
    {
      "attachments": {},
      "cell_type": "markdown",
      "metadata": {},
      "source": [
        "Jerusalem et Al Quds correspondent au même endroit, la bonne réponse est Rome et le Vatican."
      ]
    },
    {
      "cell_type": "markdown",
      "metadata": {},
      "source": []
    }
  ],
  "metadata": {
    "colab": {
      "provenance": []
    },
    "kernelspec": {
      "display_name": "base",
      "language": "python",
      "name": "python3"
    },
    "language_info": {
      "codemirror_mode": {
        "name": "ipython",
        "version": 3
      },
      "file_extension": ".py",
      "mimetype": "text/x-python",
      "name": "python",
      "nbconvert_exporter": "python",
      "pygments_lexer": "ipython3",
      "version": "3.8.8"
    },
    "vscode": {
      "interpreter": {
        "hash": "b826f3cc26bf261a738aa395db11ba18e8611ccc2b857b4784f1b9cd0f0298be"
      }
    }
  },
  "nbformat": 4,
  "nbformat_minor": 0
}
