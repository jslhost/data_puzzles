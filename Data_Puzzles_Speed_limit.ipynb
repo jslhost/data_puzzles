{
  "cells": [
    {
      "cell_type": "markdown",
      "metadata": {
        "id": "V7VzFhVChVyv"
      },
      "source": [
        "# Intro\n",
        "\n",
        "The dataset loaded below represents a random sample of cars speed on certain roads.\n",
        "\n",
        "Can you figure out what the speed limit is for each road?\n",
        "Write back the sum of all roads speeds limits back on the data-puzzles webpage!"
      ]
    },
    {
      "cell_type": "markdown",
      "metadata": {
        "id": "rm2wLbJjhlXW"
      },
      "source": [
        "# Kickstart"
      ]
    },
    {
      "cell_type": "code",
      "execution_count": 1,
      "metadata": {
        "id": "osw8w5T-hTuJ"
      },
      "outputs": [],
      "source": [
        "import pandas as pd\n",
        "\n",
        "speeds_df = pd.read_csv('https://raw.githubusercontent.com/hyperc54/data-puzzles-assets/master/visualisation/speeds_data.csv')"
      ]
    },
    {
      "cell_type": "code",
      "execution_count": 2,
      "metadata": {
        "colab": {
          "base_uri": "https://localhost:8080/",
          "height": 206
        },
        "id": "NkxjKHg3hwLE",
        "outputId": "617d6561-9b7f-47b6-b38f-84a6745f5a1d"
      },
      "outputs": [
        {
          "data": {
            "text/html": [
              "<div>\n",
              "<style scoped>\n",
              "    .dataframe tbody tr th:only-of-type {\n",
              "        vertical-align: middle;\n",
              "    }\n",
              "\n",
              "    .dataframe tbody tr th {\n",
              "        vertical-align: top;\n",
              "    }\n",
              "\n",
              "    .dataframe thead th {\n",
              "        text-align: right;\n",
              "    }\n",
              "</style>\n",
              "<table border=\"1\" class=\"dataframe\">\n",
              "  <thead>\n",
              "    <tr style=\"text-align: right;\">\n",
              "      <th></th>\n",
              "      <th>plate</th>\n",
              "      <th>road</th>\n",
              "      <th>speed</th>\n",
              "    </tr>\n",
              "  </thead>\n",
              "  <tbody>\n",
              "    <tr>\n",
              "      <th>0</th>\n",
              "      <td>DN9166SU</td>\n",
              "      <td>R87</td>\n",
              "      <td>49.7</td>\n",
              "    </tr>\n",
              "    <tr>\n",
              "      <th>1</th>\n",
              "      <td>CG4862ZS</td>\n",
              "      <td>R87</td>\n",
              "      <td>49.4</td>\n",
              "    </tr>\n",
              "    <tr>\n",
              "      <th>2</th>\n",
              "      <td>DV4956AM</td>\n",
              "      <td>R87</td>\n",
              "      <td>49.9</td>\n",
              "    </tr>\n",
              "    <tr>\n",
              "      <th>3</th>\n",
              "      <td>TL4125OA</td>\n",
              "      <td>R87</td>\n",
              "      <td>51.3</td>\n",
              "    </tr>\n",
              "    <tr>\n",
              "      <th>4</th>\n",
              "      <td>LX3827BI</td>\n",
              "      <td>R87</td>\n",
              "      <td>48.1</td>\n",
              "    </tr>\n",
              "  </tbody>\n",
              "</table>\n",
              "</div>"
            ],
            "text/plain": [
              "      plate road  speed\n",
              "0  DN9166SU  R87   49.7\n",
              "1  CG4862ZS  R87   49.4\n",
              "2  DV4956AM  R87   49.9\n",
              "3  TL4125OA  R87   51.3\n",
              "4  LX3827BI  R87   48.1"
            ]
          },
          "execution_count": 2,
          "metadata": {},
          "output_type": "execute_result"
        }
      ],
      "source": [
        "speeds_df.head()"
      ]
    },
    {
      "cell_type": "code",
      "execution_count": 3,
      "metadata": {
        "colab": {
          "base_uri": "https://localhost:8080/"
        },
        "id": "rTl5hJD_bKZm",
        "outputId": "7266e866-0a5a-43f5-ff04-d7b75a77d21a"
      },
      "outputs": [
        {
          "data": {
            "text/plain": [
              "470.0"
            ]
          },
          "execution_count": 3,
          "metadata": {},
          "output_type": "execute_result"
        }
      ],
      "source": [
        "import numpy as np\n",
        "\n",
        "np.sum([round(np.percentile(speeds_df.loc[speeds_df['road']==road, 'speed'], 90), -1) for road in speeds_df['road'].unique()])"
      ]
    },
    {
      "cell_type": "code",
      "execution_count": 30,
      "metadata": {},
      "outputs": [
        {
          "name": "stdout",
          "output_type": "stream",
          "text": [
            "avg speed 50.0 , max speed 55.3\n",
            "11 % diff\n",
            "--------------------\n",
            "avg speed 70.0 , max speed 75.9\n",
            "8 % diff\n",
            "--------------------\n",
            "avg speed 100.0 , max speed 114.9\n",
            "15 % diff\n",
            "--------------------\n",
            "avg speed 90.0 , max speed 97.1\n",
            "8 % diff\n",
            "--------------------\n",
            "avg speed 130.0 , max speed 164.3\n",
            "26 % diff\n",
            "--------------------\n",
            "avg speed 30.0 , max speed 40.5\n",
            "35 % diff\n",
            "--------------------\n"
          ]
        }
      ],
      "source": [
        "speeds_limit = [round(np.percentile(speeds_df.loc[speeds_df['road']==road, 'speed'], 90), -1) for road in speeds_df['road'].unique()]\n",
        "max_speeds = [speeds_df.loc[speeds_df['road']==road, 'speed'].max() for road in speeds_df['road'].unique()]\n",
        "\n",
        "for speed_limit, max_speed in zip(speeds_limit, max_speeds):\n",
        "    print('avg speed', speed_limit, ', max speed', max_speed)\n",
        "    print(round((max_speed/speed_limit)*100 - 100), '% diff')\n",
        "    print('-'*20)"
      ]
    },
    {
      "cell_type": "code",
      "execution_count": 28,
      "metadata": {
        "id": "UxPjJWdxYiTr"
      },
      "outputs": [
        {
          "data": {
            "text/plain": [
              "'RQ3458CQ'"
            ]
          },
          "execution_count": 28,
          "metadata": {},
          "output_type": "execute_result"
        }
      ],
      "source": [
        "speeds_df.loc[speeds_df['speed']==40.5, 'plate'].values[0]"
      ]
    },
    {
      "cell_type": "code",
      "execution_count": null,
      "metadata": {},
      "outputs": [],
      "source": []
    }
  ],
  "metadata": {
    "colab": {
      "provenance": []
    },
    "kernelspec": {
      "display_name": "base",
      "language": "python",
      "name": "python3"
    },
    "language_info": {
      "codemirror_mode": {
        "name": "ipython",
        "version": 3
      },
      "file_extension": ".py",
      "mimetype": "text/x-python",
      "name": "python",
      "nbconvert_exporter": "python",
      "pygments_lexer": "ipython3",
      "version": "3.8.8 (default, Feb 24 2021, 15:54:32) [MSC v.1928 64 bit (AMD64)]"
    },
    "vscode": {
      "interpreter": {
        "hash": "b826f3cc26bf261a738aa395db11ba18e8611ccc2b857b4784f1b9cd0f0298be"
      }
    }
  },
  "nbformat": 4,
  "nbformat_minor": 0
}
