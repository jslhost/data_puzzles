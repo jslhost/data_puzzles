{
  "cells": [
    {
      "cell_type": "markdown",
      "metadata": {
        "id": "z62dKQEo5eEo"
      },
      "source": [
        "# Intro\n",
        "\n",
        "A few friends and I are playing a game at 6pm. I know they often arrive late, and I really don't want to be late.\n",
        "\n",
        "I actually looked at historical data, and found out my friends arrival time can be described as random variable that follows a normal distribution of parameter mean = 'appointment time' amd std_dev = 10 min. \n",
        "\n",
        "I need to set the appointment so that Im at least 99% confident all my friends will be there by 6pm. Can you figure out the latest appointment time that would check that criteria? Thanks!!"
      ]
    },
    {
      "cell_type": "code",
      "execution_count": 1,
      "metadata": {
        "id": "VJN2jlPR5YLF"
      },
      "outputs": [],
      "source": [
        "game_time = 18 * 60 # 6pm in number of minutes from midnight\n",
        "n_friends = 4\n",
        "std_dev_arrival_time_min = 10\n",
        "# ... and that's all!\n",
        "# right_appointment_time = ?"
      ]
    },
    {
      "cell_type": "code",
      "execution_count": 10,
      "metadata": {
        "id": "lkKBacrKCnQF"
      },
      "outputs": [
        {
          "data": {
            "image/png": "[encoded data removed]",
            "text/plain": [
              "<Figure size 432x288 with 1 Axes>"
            ]
          },
          "metadata": {
            "needs_background": "light"
          },
          "output_type": "display_data"
        }
      ],
      "source": [
        "import numpy as np\n",
        "import matplotlib.pyplot as plt\n",
        "\n",
        "number_of_simulations = 300_000\n",
        "simulations = [max([np.random.normal(0, 10) for _ in range(n_friends)]) for _ in range(number_of_simulations)]\n",
        "\n",
        "plt.hist(simulations, bins=100)\n",
        "plt.show()"
      ]
    },
    {
      "cell_type": "code",
      "execution_count": 19,
      "metadata": {},
      "outputs": [
        {
          "name": "stdout",
          "output_type": "stream",
          "text": [
            "L'heure idéale du rdv est 17:32\n"
          ]
        }
      ],
      "source": [
        "time_interval = round(np.percentile(simulations, 99))\n",
        "hour = (game_time - time_interval) // 60\n",
        "minutes = (game_time - time_interval) % 60\n",
        "print(f\"L'heure idéale du rdv est {hour}:{minutes}\")"
      ]
    },
    {
      "cell_type": "code",
      "execution_count": null,
      "metadata": {},
      "outputs": [],
      "source": []
    }
  ],
  "metadata": {
    "colab": {
      "provenance": []
    },
    "kernelspec": {
      "display_name": "base",
      "language": "python",
      "name": "python3"
    },
    "language_info": {
      "codemirror_mode": {
        "name": "ipython",
        "version": 3
      },
      "file_extension": ".py",
      "mimetype": "text/x-python",
      "name": "python",
      "nbconvert_exporter": "python",
      "pygments_lexer": "ipython3",
      "version": "3.8.8 (default, Feb 24 2021, 15:54:32) [MSC v.1928 64 bit (AMD64)]"
    },
    "vscode": {
      "interpreter": {
        "hash": "b826f3cc26bf261a738aa395db11ba18e8611ccc2b857b4784f1b9cd0f0298be"
      }
    }
  },
  "nbformat": 4,
  "nbformat_minor": 0
}
