{
  "cells": [
    {
      "cell_type": "markdown",
      "metadata": {
        "id": "SSrzLaW-BQvm"
      },
      "source": [
        "# Intro\n",
        "\n",
        "Here's is the message from Earth:\n",
        "'I remember that if you sort the countries (or dependencies) [Guinea, Iran, Trinidad And Tobago, Honduras, Lebanon, Ethiopia, Niger, Afghanistan, India, American Samoa, Cuba, Gabon, Nicaragua, Channel Islands, Martinique] by density of population (DESCENDING) and then only look at the first letter of each country, you'll get my message back!! Can you help me please?'\n",
        "\n",
        "To help our planet, we preloaded world population and geographical data from the website Worldometer (https://worldometers.info/). Use it to do what the earth says and decode the message!"
      ]
    },
    {
      "cell_type": "code",
      "execution_count": 23,
      "metadata": {
        "id": "KJHqs-w3BMzc"
      },
      "outputs": [],
      "source": [
        "import pandas as pd\n",
        "\n",
        "countries = ['Guinea', 'Iran', 'Trinidad and Tobago', 'Honduras', 'Lebanon',\n",
        "             'Ethiopia', 'Niger', 'Afghanistan', 'India', 'American Samoa',\n",
        "             'Cuba', 'Gabon', 'Nicaragua', 'Channel Islands', 'Martinique']\n",
        "\n",
        "country_pop = pd.read_csv('https://raw.githubusercontent.com/hyperc54/data-puzzles-assets/master/misc/earth/population_by_country.csv')"
      ]
    },
    {
      "cell_type": "code",
      "execution_count": 24,
      "metadata": {
        "colab": {
          "base_uri": "https://localhost:8080/",
          "height": 206
        },
        "id": "zayYdTmzCUkp",
        "outputId": "83cb5958-2572-4834-9c1f-d2498f6fb797"
      },
      "outputs": [
        {
          "data": {
            "text/html": [
              "<div>\n",
              "<style scoped>\n",
              "    .dataframe tbody tr th:only-of-type {\n",
              "        vertical-align: middle;\n",
              "    }\n",
              "\n",
              "    .dataframe tbody tr th {\n",
              "        vertical-align: top;\n",
              "    }\n",
              "\n",
              "    .dataframe thead th {\n",
              "        text-align: right;\n",
              "    }\n",
              "</style>\n",
              "<table border=\"1\" class=\"dataframe\">\n",
              "  <thead>\n",
              "    <tr style=\"text-align: right;\">\n",
              "      <th></th>\n",
              "      <th>Country (or dependency)</th>\n",
              "      <th>Population (2020)</th>\n",
              "      <th>Yearly Change</th>\n",
              "      <th>Urban Pop %</th>\n",
              "      <th>World Share</th>\n",
              "    </tr>\n",
              "  </thead>\n",
              "  <tbody>\n",
              "    <tr>\n",
              "      <th>0</th>\n",
              "      <td>China</td>\n",
              "      <td>1440297825</td>\n",
              "      <td>0.39 %</td>\n",
              "      <td>61 %</td>\n",
              "      <td>18.47 %</td>\n",
              "    </tr>\n",
              "    <tr>\n",
              "      <th>1</th>\n",
              "      <td>India</td>\n",
              "      <td>1382345085</td>\n",
              "      <td>0.99 %</td>\n",
              "      <td>35 %</td>\n",
              "      <td>17.70 %</td>\n",
              "    </tr>\n",
              "    <tr>\n",
              "      <th>2</th>\n",
              "      <td>United States</td>\n",
              "      <td>331341050</td>\n",
              "      <td>0.59 %</td>\n",
              "      <td>83 %</td>\n",
              "      <td>4.25 %</td>\n",
              "    </tr>\n",
              "    <tr>\n",
              "      <th>3</th>\n",
              "      <td>Indonesia</td>\n",
              "      <td>274021604</td>\n",
              "      <td>1.07 %</td>\n",
              "      <td>56 %</td>\n",
              "      <td>3.51 %</td>\n",
              "    </tr>\n",
              "    <tr>\n",
              "      <th>4</th>\n",
              "      <td>Pakistan</td>\n",
              "      <td>221612785</td>\n",
              "      <td>2.00 %</td>\n",
              "      <td>35 %</td>\n",
              "      <td>2.83 %</td>\n",
              "    </tr>\n",
              "  </tbody>\n",
              "</table>\n",
              "</div>"
            ],
            "text/plain": [
              "  Country (or dependency)  Population (2020) Yearly Change Urban Pop %  \\\n",
              "0                   China         1440297825        0.39 %        61 %   \n",
              "1                   India         1382345085        0.99 %        35 %   \n",
              "2           United States          331341050        0.59 %        83 %   \n",
              "3               Indonesia          274021604        1.07 %        56 %   \n",
              "4                Pakistan          221612785        2.00 %        35 %   \n",
              "\n",
              "  World Share  \n",
              "0     18.47 %  \n",
              "1     17.70 %  \n",
              "2      4.25 %  \n",
              "3      3.51 %  \n",
              "4      2.83 %  "
            ]
          },
          "execution_count": 24,
          "metadata": {},
          "output_type": "execute_result"
        }
      ],
      "source": [
        "country_pop.head()"
      ]
    },
    {
      "cell_type": "code",
      "execution_count": 25,
      "metadata": {
        "id": "_YcuwOK3CeIa"
      },
      "outputs": [],
      "source": [
        "country_surface = pd.read_csv('https://raw.githubusercontent.com/hyperc54/data-puzzles-assets/master/misc/earth/surface_by_country.csv')"
      ]
    },
    {
      "cell_type": "code",
      "execution_count": 26,
      "metadata": {
        "colab": {
          "base_uri": "https://localhost:8080/",
          "height": 206
        },
        "id": "haGm8dw0FqVj",
        "outputId": "f7a20bb8-08f2-4ac3-b23a-85a8bed156c8"
      },
      "outputs": [
        {
          "data": {
            "text/html": [
              "<div>\n",
              "<style scoped>\n",
              "    .dataframe tbody tr th:only-of-type {\n",
              "        vertical-align: middle;\n",
              "    }\n",
              "\n",
              "    .dataframe tbody tr th {\n",
              "        vertical-align: top;\n",
              "    }\n",
              "\n",
              "    .dataframe thead th {\n",
              "        text-align: right;\n",
              "    }\n",
              "</style>\n",
              "<table border=\"1\" class=\"dataframe\">\n",
              "  <thead>\n",
              "    <tr style=\"text-align: right;\">\n",
              "      <th></th>\n",
              "      <th>Country (or dependency)</th>\n",
              "      <th>Land Area (Km²)</th>\n",
              "    </tr>\n",
              "  </thead>\n",
              "  <tbody>\n",
              "    <tr>\n",
              "      <th>0</th>\n",
              "      <td>China</td>\n",
              "      <td>9388211</td>\n",
              "    </tr>\n",
              "    <tr>\n",
              "      <th>1</th>\n",
              "      <td>India</td>\n",
              "      <td>2973190</td>\n",
              "    </tr>\n",
              "    <tr>\n",
              "      <th>2</th>\n",
              "      <td>United States</td>\n",
              "      <td>9147420</td>\n",
              "    </tr>\n",
              "    <tr>\n",
              "      <th>3</th>\n",
              "      <td>Indonesia</td>\n",
              "      <td>1811570</td>\n",
              "    </tr>\n",
              "    <tr>\n",
              "      <th>4</th>\n",
              "      <td>Pakistan</td>\n",
              "      <td>770880</td>\n",
              "    </tr>\n",
              "  </tbody>\n",
              "</table>\n",
              "</div>"
            ],
            "text/plain": [
              "  Country (or dependency)  Land Area (Km²)\n",
              "0                   China          9388211\n",
              "1                   India          2973190\n",
              "2           United States          9147420\n",
              "3               Indonesia          1811570\n",
              "4                Pakistan           770880"
            ]
          },
          "execution_count": 26,
          "metadata": {},
          "output_type": "execute_result"
        }
      ],
      "source": [
        "country_surface.head()"
      ]
    },
    {
      "cell_type": "code",
      "execution_count": 28,
      "metadata": {
        "id": "ShldPu2-Frfh"
      },
      "outputs": [
        {
          "data": {
            "text/plain": [
              "'CLIMATECHANGING'"
            ]
          },
          "execution_count": 28,
          "metadata": {},
          "output_type": "execute_result"
        }
      ],
      "source": [
        "country_surface['Population'] = country_pop['Population (2020)']\n",
        "country_surface['Density_pop'] = country_surface['Population'] / country_surface['Land Area (Km²)'] \n",
        "country_surface = country_surface[country_surface['Country (or dependency)'].isin(countries)] \n",
        "filtred_countries = country_surface.sort_values(by='Density_pop', ascending=False).loc[:, 'Country (or dependency)'].values\n",
        "\"\".join([country[0] for country in filtred_countries])"
      ]
    },
    {
      "cell_type": "code",
      "execution_count": null,
      "metadata": {},
      "outputs": [],
      "source": []
    }
  ],
  "metadata": {
    "colab": {
      "provenance": []
    },
    "kernelspec": {
      "display_name": "base",
      "language": "python",
      "name": "python3"
    },
    "language_info": {
      "codemirror_mode": {
        "name": "ipython",
        "version": 3
      },
      "file_extension": ".py",
      "mimetype": "text/x-python",
      "name": "python",
      "nbconvert_exporter": "python",
      "pygments_lexer": "ipython3",
      "version": "3.8.8 (default, Feb 24 2021, 15:54:32) [MSC v.1928 64 bit (AMD64)]"
    },
    "vscode": {
      "interpreter": {
        "hash": "b826f3cc26bf261a738aa395db11ba18e8611ccc2b857b4784f1b9cd0f0298be"
      }
    }
  },
  "nbformat": 4,
  "nbformat_minor": 0
}
